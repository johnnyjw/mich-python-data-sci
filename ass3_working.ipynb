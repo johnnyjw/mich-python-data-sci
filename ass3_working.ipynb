{
 "cells": [
  {
   "cell_type": "code",
   "execution_count": 1,
   "metadata": {},
   "outputs": [],
   "source": [
    "import pandas as pd\n",
    "import numpy as np"
   ]
  },
  {
   "cell_type": "code",
   "execution_count": 2,
   "metadata": {},
   "outputs": [],
   "source": [
    "def answer_one():\n",
    "    import pandas as pd\n",
    "    import numpy as np\n",
    "    energy = pd.read_excel('Energy Indicators.xls', sheet_name='Energy', skiprows=17,\n",
    "                        skipfooter=38, na_values='...', usecols=[2,3,4,5]) \n",
    "    energy.columns = ['Country', 'Energy Supply', 'Energy Supply per Capita', '% Renewable']\n",
    "    energy['Energy Supply'] = energy['Energy Supply'] * 1000000\n",
    "    energy['Country'].replace(to_replace={'Australia1':'Australia',\n",
    "                                      'China2':'China',\n",
    "                                      'China, Macao Special Administrative Region4':'China, Macao Special Administrative Region',\n",
    "                                      'Denmark5':'Denmark',\n",
    "                                      'Falkland Islands (Malvinas)':'Falkland Islands',\n",
    "                                      'France6':'France',\n",
    "                                      'Greenland7':'Greenland',\n",
    "                                      'Indonesia8':'Indonesia',\n",
    "                                      'Iran (Islamic Republic of)':'Iran',\n",
    "                                      'Italy9':'Italy',\n",
    "                                      'Japan10':'Japan',\n",
    "                                      'Kuwait11':'Kuwait',\n",
    "                                      'Micronesia (Federated States of)':'Micronesia',\n",
    "                                      'Netherlands12':'Netherlands',\n",
    "                                      'Portugal13':'Portugal',\n",
    "                                      'Saudi Arabia14':'Saudi Arabia',\n",
    "                                      'Sint Maarten (Dutch part)':'Sint Maarten',\n",
    "                                      'Spain16':'Spain',\n",
    "                                      'Switzerland17':'Switzerland',\n",
    "                                      'Ukraine18':'Ukraine',\n",
    "                                      'Venezuela (Bolivarian Republic of)': 'Venezuela',\n",
    "                                      'Bolivia (Plurinational State of)': 'Bolivia',\n",
    "                                      \"Republic of Korea\": \"South Korea\",\n",
    "                                      \"United States of America20\": \"United States\",\n",
    "                                      \"United Kingdom of Great Britain and Northern Ireland19\": \"United Kingdom\",\n",
    "                                      \"China, Hong Kong Special Administrative Region\": \"Hong Kong\"},\n",
    "                                inplace=True)\n",
    "    GDP = pd.read_csv('world_bank.csv', skiprows=4)\n",
    "    GDP['Country Name'].replace(to_replace={\"Korea, Rep.\": \"South Korea\", \n",
    "                                            \"Iran, Islamic Rep.\": \"Iran\",\n",
    "                                            \"Hong Kong SAR, China\": \"Hong Kong\"},\n",
    "                                 inplace=True)\n",
    "    ScimEn = pd.read_excel('scimagojr-3.xlsx', sheet_name='Sheet1')\n",
    "    merged_df = pd.merge(energy, GDP, left_on='Country', right_on='Country Name')\n",
    "    merged_df = pd.merge(merged_df, ScimEn, on='Country')\n",
    "    merged_df = merged_df[['Rank', 'Documents', 'Citable documents', 'Citations', 'Self-citations',\n",
    "                       'Citations per document', 'H index', 'Energy Supply',\n",
    "                       'Energy Supply per Capita', '% Renewable', '2006', '2007', '2008',\n",
    "                       '2009', '2010', '2011', '2012', '2013', '2014', '2015', 'Country']]\n",
    "    merged_df = merged_df[merged_df['Rank']<= 15].set_index('Country')\n",
    "    return merged_df\n",
    "\n"
   ]
  },
  {
   "cell_type": "code",
   "execution_count": 46,
   "metadata": {},
   "outputs": [
    {
     "data": {
      "text/plain": [
       "(15, 20)"
      ]
     },
     "execution_count": 46,
     "metadata": {},
     "output_type": "execute_result"
    }
   ],
   "source": [
    "answer_one().shape"
   ]
  },
  {
   "cell_type": "code",
   "execution_count": 4,
   "metadata": {},
   "outputs": [],
   "source": [
    "def answer_two():\n",
    "    energy = pd.read_excel('Energy Indicators.xls', sheet_name='Energy', skip_rows=3,\n",
    "                        header=17, skipfooter=38, na_values='...', usecols=[2,3,4,5]) \\\n",
    "               .reset_index()\n",
    "    energy.columns = ['Country', 'Energy Supply', 'Energy Supply per Capita', '% Renewable']\n",
    "    energy['Energy Supply'] = energy['Energy Supply'] * 1000000\n",
    "    energy['Country'].replace(to_replace={'Australia1':'Australia',\n",
    "                                      'China2':'China',\n",
    "                                      'China, Macao Special Administrative Region4':'China, Macao Special Administrative Region',\n",
    "                                      'Denmark5':'Denmark',\n",
    "                                      'Falkland Islands (Malvinas)':'Falkland Islands',\n",
    "                                      'France6':'France',\n",
    "                                      'Greenland7':'Greenland',\n",
    "                                      'Indonesia8':'Indonesia',\n",
    "                                      'Iran (Islamic Republic of)':'Iran',\n",
    "                                      'Italy9':'Italy',\n",
    "                                      'Japan10':'Japan',\n",
    "                                      'Kuwait11':'Kuwait',\n",
    "                                      'Micronesia (Federated States of)':'Micronesia',\n",
    "                                      'Netherlands12':'Netherlands',\n",
    "                                      'Portugal13':'Portugal',\n",
    "                                      'Saudi Arabia14':'Saudi Arabia',\n",
    "                                      'Sint Maarten (Dutch part)':'Sint Maarten',\n",
    "                                      'Spain16':'Spain',\n",
    "                                      'Switzerland17':'Switzerland',\n",
    "                                      'Ukraine18':'Ukraine',\n",
    "                                      'Venezuela (Bolivarian Republic of)': 'Venezuela',\n",
    "                                      'Bolivia (Plurinational State of)': 'Bolivia',\n",
    "                                      \"Republic of Korea\": \"South Korea\",\n",
    "                                      \"United States of America20\": \"United States\",\n",
    "                                      \"United Kingdom of Great Britain and Northern Ireland19\": \"United Kingdom\",\n",
    "                                      \"China, Hong Kong Special Administrative Region\": \"Hong Kong\"},\n",
    "                                inplace=True)\n",
    "    GDP = pd.read_csv('world_bank.csv', skiprows=4)\n",
    "    GDP['Country Name'].replace(to_replace={\"Korea, Rep.\": \"South Korea\", \n",
    "                                            \"Iran, Islamic Rep.\": \"Iran\",\n",
    "                                            \"Hong Kong SAR, China\": \"Hong Kong\"},\n",
    "                                 inplace=True)\n",
    "    ScimEn = pd.read_excel('scimagojr-3.xlsx', sheet_name='Sheet1')\n",
    "    merged_df = pd.merge(energy, GDP, left_on='Country', right_on='Country Name')\n",
    "    merged_df = pd.merge(merged_df, ScimEn, on='Country')\n",
    "    merged_df = merged_df[['Rank', 'Documents', 'Citable documents', 'Citations', 'Self-citations',\n",
    "                       'Citations per document', 'H index', 'Energy Supply',\n",
    "                       'Energy Supply per Capita', '% Renewable', '2006', '2007', '2008',\n",
    "                       '2009', '2010', '2011', '2012', '2013', '2014', '2015', 'Country']]\n",
    "    return merged_df"
   ]
  },
  {
   "cell_type": "code",
   "execution_count": 6,
   "metadata": {},
   "outputs": [],
   "source": [
    "test = answer_two()\n"
   ]
  },
  {
   "cell_type": "code",
   "execution_count": 14,
   "metadata": {},
   "outputs": [
    {
     "data": {
      "text/html": [
       "<div>\n",
       "<style scoped>\n",
       "    .dataframe tbody tr th:only-of-type {\n",
       "        vertical-align: middle;\n",
       "    }\n",
       "\n",
       "    .dataframe tbody tr th {\n",
       "        vertical-align: top;\n",
       "    }\n",
       "\n",
       "    .dataframe thead th {\n",
       "        text-align: right;\n",
       "    }\n",
       "</style>\n",
       "<table border=\"1\" class=\"dataframe\">\n",
       "  <thead>\n",
       "    <tr style=\"text-align: right;\">\n",
       "      <th></th>\n",
       "      <th>Country Name</th>\n",
       "      <th>Country Code</th>\n",
       "      <th>Indicator Name</th>\n",
       "      <th>Indicator Code</th>\n",
       "      <th>1960</th>\n",
       "      <th>1961</th>\n",
       "      <th>1962</th>\n",
       "      <th>1963</th>\n",
       "      <th>1964</th>\n",
       "      <th>1965</th>\n",
       "      <th>...</th>\n",
       "      <th>2006</th>\n",
       "      <th>2007</th>\n",
       "      <th>2008</th>\n",
       "      <th>2009</th>\n",
       "      <th>2010</th>\n",
       "      <th>2011</th>\n",
       "      <th>2012</th>\n",
       "      <th>2013</th>\n",
       "      <th>2014</th>\n",
       "      <th>2015</th>\n",
       "    </tr>\n",
       "  </thead>\n",
       "  <tbody>\n",
       "    <tr>\n",
       "      <th>108</th>\n",
       "      <td>Ireland</td>\n",
       "      <td>IRL</td>\n",
       "      <td>GDP at market prices (constant 2010 US$)</td>\n",
       "      <td>NY.GDP.MKTP.KD</td>\n",
       "      <td>NaN</td>\n",
       "      <td>NaN</td>\n",
       "      <td>NaN</td>\n",
       "      <td>NaN</td>\n",
       "      <td>NaN</td>\n",
       "      <td>NaN</td>\n",
       "      <td>...</td>\n",
       "      <td>2.249653e+11</td>\n",
       "      <td>2.374346e+11</td>\n",
       "      <td>2.323003e+11</td>\n",
       "      <td>2.192023e+11</td>\n",
       "      <td>2.200761e+11</td>\n",
       "      <td>2.257719e+11</td>\n",
       "      <td>2.261131e+11</td>\n",
       "      <td>2.293562e+11</td>\n",
       "      <td>2.412813e+11</td>\n",
       "      <td>2.601287e+11</td>\n",
       "    </tr>\n",
       "    <tr>\n",
       "      <th>109</th>\n",
       "      <td>Iran</td>\n",
       "      <td>IRN</td>\n",
       "      <td>GDP at market prices (constant 2010 US$)</td>\n",
       "      <td>NY.GDP.MKTP.KD</td>\n",
       "      <td>5.500820e+10</td>\n",
       "      <td>6.072406e+10</td>\n",
       "      <td>6.552689e+10</td>\n",
       "      <td>7.014134e+10</td>\n",
       "      <td>7.608598e+10</td>\n",
       "      <td>8.904776e+10</td>\n",
       "      <td>...</td>\n",
       "      <td>3.895523e+11</td>\n",
       "      <td>4.250646e+11</td>\n",
       "      <td>4.289909e+11</td>\n",
       "      <td>4.389208e+11</td>\n",
       "      <td>4.677902e+11</td>\n",
       "      <td>4.853309e+11</td>\n",
       "      <td>4.532569e+11</td>\n",
       "      <td>4.445926e+11</td>\n",
       "      <td>4.639027e+11</td>\n",
       "      <td>NaN</td>\n",
       "    </tr>\n",
       "    <tr>\n",
       "      <th>110</th>\n",
       "      <td>Iraq</td>\n",
       "      <td>IRQ</td>\n",
       "      <td>GDP at market prices (constant 2010 US$)</td>\n",
       "      <td>NY.GDP.MKTP.KD</td>\n",
       "      <td>NaN</td>\n",
       "      <td>NaN</td>\n",
       "      <td>NaN</td>\n",
       "      <td>NaN</td>\n",
       "      <td>NaN</td>\n",
       "      <td>NaN</td>\n",
       "      <td>...</td>\n",
       "      <td>1.147716e+11</td>\n",
       "      <td>1.163527e+11</td>\n",
       "      <td>1.259263e+11</td>\n",
       "      <td>1.301818e+11</td>\n",
       "      <td>1.385167e+11</td>\n",
       "      <td>1.489698e+11</td>\n",
       "      <td>1.697309e+11</td>\n",
       "      <td>1.808859e+11</td>\n",
       "      <td>1.770543e+11</td>\n",
       "      <td>1.807724e+11</td>\n",
       "    </tr>\n",
       "  </tbody>\n",
       "</table>\n",
       "<p>3 rows × 60 columns</p>\n",
       "</div>"
      ],
      "text/plain": [
       "    Country Name Country Code                            Indicator Name  \\\n",
       "108      Ireland          IRL  GDP at market prices (constant 2010 US$)   \n",
       "109         Iran          IRN  GDP at market prices (constant 2010 US$)   \n",
       "110         Iraq          IRQ  GDP at market prices (constant 2010 US$)   \n",
       "\n",
       "     Indicator Code          1960          1961          1962          1963  \\\n",
       "108  NY.GDP.MKTP.KD           NaN           NaN           NaN           NaN   \n",
       "109  NY.GDP.MKTP.KD  5.500820e+10  6.072406e+10  6.552689e+10  7.014134e+10   \n",
       "110  NY.GDP.MKTP.KD           NaN           NaN           NaN           NaN   \n",
       "\n",
       "             1964          1965      ...               2006          2007  \\\n",
       "108           NaN           NaN      ...       2.249653e+11  2.374346e+11   \n",
       "109  7.608598e+10  8.904776e+10      ...       3.895523e+11  4.250646e+11   \n",
       "110           NaN           NaN      ...       1.147716e+11  1.163527e+11   \n",
       "\n",
       "             2008          2009          2010          2011          2012  \\\n",
       "108  2.323003e+11  2.192023e+11  2.200761e+11  2.257719e+11  2.261131e+11   \n",
       "109  4.289909e+11  4.389208e+11  4.677902e+11  4.853309e+11  4.532569e+11   \n",
       "110  1.259263e+11  1.301818e+11  1.385167e+11  1.489698e+11  1.697309e+11   \n",
       "\n",
       "             2013          2014          2015  \n",
       "108  2.293562e+11  2.412813e+11  2.601287e+11  \n",
       "109  4.445926e+11  4.639027e+11           NaN  \n",
       "110  1.808859e+11  1.770543e+11  1.807724e+11  \n",
       "\n",
       "[3 rows x 60 columns]"
      ]
     },
     "execution_count": 14,
     "metadata": {},
     "output_type": "execute_result"
    }
   ],
   "source": [
    "GDP = pd.read_csv('world_bank.csv', skiprows=4)\n",
    "GDP['Country Name'].replace(to_replace={\"Korea, Rep.\": \"South Korea\", \n",
    "                                            \"Iran, Islamic Rep.\": \"Iran\",\n",
    "                                            \"Hong Kong SAR, China\": \"Hong Kong\"},\n",
    "                                 inplace=True)\n",
    "GDP[GDP['Country Name'].str.contains('Ir')]"
   ]
  },
  {
   "cell_type": "code",
   "execution_count": 66,
   "metadata": {},
   "outputs": [],
   "source": [
    "def answer_three():\n",
    "    Top15 = answer_one()\n",
    "    ten_years = list(range(2006, 2016))\n",
    "    ten_years = list(map(str, ten_years))\n",
    "    avgGDP = Top15.apply(lambda x: np.ma.average(np.ma.masked_array(x[ten_years],np.isnan(x[ten_years]))), axis=1) \\\n",
    "                  .sort_values(ascending=False)\n",
    "    return avgGDP"
   ]
  },
  {
   "cell_type": "code",
   "execution_count": 67,
   "metadata": {},
   "outputs": [
    {
     "data": {
      "text/plain": [
       "Country\n",
       "United States         1.536434e+13\n",
       "China                 6.348609e+12\n",
       "Japan                 5.542208e+12\n",
       "Germany               3.493025e+12\n",
       "France                2.681725e+12\n",
       "United Kingdom        2.487907e+12\n",
       "Brazil                2.189794e+12\n",
       "Italy                 2.120175e+12\n",
       "India                 1.769297e+12\n",
       "Canada                1.660647e+12\n",
       "Russian Federation    1.565459e+12\n",
       "Spain                 1.418078e+12\n",
       "Australia             1.164043e+12\n",
       "South Korea           1.106715e+12\n",
       "Iran                  4.441558e+11\n",
       "dtype: float64"
      ]
     },
     "execution_count": 67,
     "metadata": {},
     "output_type": "execute_result"
    }
   ],
   "source": [
    "answer_three()"
   ]
  },
  {
   "cell_type": "code",
   "execution_count": 96,
   "metadata": {},
   "outputs": [],
   "source": [
    "def answer_four():\n",
    "    Top15 = answer_one()\n",
    "    ten_years = list(range(2006, 2016))\n",
    "    ten_years = list(map(str, ten_years))\n",
    "    Top15['gdp_rank']  = Top15.apply(lambda x: np.ma.average(np.ma.masked_array(x[ten_years],np.isnan(x[ten_years]))), axis=1) \\\n",
    "                              .rank(ascending=False)\n",
    "    Top15.sort_values('gdp_rank', inplace=True)\n",
    "    sixth = Top15.iloc[5]\n",
    "    return sixth.loc['2015'] - sixth.loc['2006']"
   ]
  },
  {
   "cell_type": "code",
   "execution_count": 98,
   "metadata": {},
   "outputs": [
    {
     "data": {
      "text/plain": [
       "numpy.float64"
      ]
     },
     "execution_count": 98,
     "metadata": {},
     "output_type": "execute_result"
    }
   ],
   "source": [
    "type(answer_four())"
   ]
  },
  {
   "cell_type": "code",
   "execution_count": 102,
   "metadata": {},
   "outputs": [],
   "source": [
    "def answer_five():\n",
    "    Top15 = answer_one()\n",
    "    return np.average(Top15['Energy Supply per Capita'])"
   ]
  },
  {
   "cell_type": "code",
   "execution_count": 103,
   "metadata": {},
   "outputs": [
    {
     "data": {
      "text/plain": [
       "157.6"
      ]
     },
     "execution_count": 103,
     "metadata": {},
     "output_type": "execute_result"
    }
   ],
   "source": [
    "answer_five()\n"
   ]
  },
  {
   "cell_type": "code",
   "execution_count": 110,
   "metadata": {},
   "outputs": [
    {
     "data": {
      "text/plain": [
       "tuple"
      ]
     },
     "execution_count": 110,
     "metadata": {},
     "output_type": "execute_result"
    }
   ],
   "source": [
    "def answer_six():\n",
    "    Top15 = answer_one()\n",
    "    Top15.sort_values('% Renewable', ascending=False, inplace=True)\n",
    "    return (Top15.index[0], Top15['% Renewable'].iloc[0])\n",
    "\n"
   ]
  },
  {
   "cell_type": "code",
   "execution_count": 115,
   "metadata": {},
   "outputs": [
    {
     "data": {
      "text/plain": [
       "('China', 0.6893126179389422)"
      ]
     },
     "execution_count": 115,
     "metadata": {},
     "output_type": "execute_result"
    }
   ],
   "source": [
    "def answer_seven():\n",
    "    Top15 = answer_one()\n",
    "    Top15['ratio'] = Top15['Self-citations'] / Top15['Citations']\n",
    "    Top15.sort_values('ratio', ascending=False, inplace=True)\n",
    "    return (Top15.index[0], Top15['ratio'].iloc[0])\n",
    "\n",
    "answer_seven()"
   ]
  },
  {
   "cell_type": "code",
   "execution_count": 119,
   "metadata": {},
   "outputs": [
    {
     "data": {
      "text/plain": [
       "'United States'"
      ]
     },
     "execution_count": 119,
     "metadata": {},
     "output_type": "execute_result"
    }
   ],
   "source": [
    "def answer_eight():\n",
    "    Top15 = answer_one()\n",
    "    Top15['Est pop'] = Top15['Energy Supply'] / Top15['Energy Supply per Capita']\n",
    "    Top15.sort_values('Est pop', ascending=False, inplace=True)\n",
    "    return Top15.index[2]\n",
    "\n",
    "answer_eight()"
   ]
  },
  {
   "cell_type": "code",
   "execution_count": 121,
   "metadata": {},
   "outputs": [
    {
     "data": {
      "text/plain": [
       "0.7940010435442942"
      ]
     },
     "execution_count": 121,
     "metadata": {},
     "output_type": "execute_result"
    }
   ],
   "source": [
    "def answer_nine():\n",
    "    Top15 = answer_one()\n",
    "    Top15['PopEst'] = Top15['Energy Supply'] / Top15['Energy Supply per Capita']\n",
    "    Top15['Citable docs per Capita'] = Top15['Citable documents'] / Top15['PopEst']\n",
    "    return Top15['Citable docs per Capita'].corr(Top15['Energy Supply per Capita'])\n",
    "\n",
    "answer_nine()"
   ]
  },
  {
   "cell_type": "code",
   "execution_count": 13,
   "metadata": {},
   "outputs": [
    {
     "data": {
      "text/plain": [
       "Country\n",
       "China                 1\n",
       "United States         0\n",
       "Japan                 0\n",
       "United Kingdom        0\n",
       "Russian Federation    1\n",
       "Canada                1\n",
       "Germany               1\n",
       "India                 0\n",
       "France                0\n",
       "South Korea           0\n",
       "Italy                 1\n",
       "Spain                 1\n",
       "Iran                  0\n",
       "Australia             0\n",
       "Brazil                1\n",
       "Name: HighRenew, dtype: int64"
      ]
     },
     "execution_count": 13,
     "metadata": {},
     "output_type": "execute_result"
    }
   ],
   "source": [
    "def answer_ten():\n",
    "    Top15 = answer_one()\n",
    "    Top15['med_renew'] = np.median(Top15['% Renewable'])\n",
    "    Top15['HighRenew'] = Top15.apply(lambda x: 1 if x['% Renewable'] > x['med_renew'] else 0, axis=1)\n",
    "    Top15.sort_values('Rank', inplace=True)\n",
    "    HighRenew = Top15['HighRenew']\n",
    "    return HighRenew\n",
    "\n",
    "answer_ten()"
   ]
  },
  {
   "cell_type": "code",
   "execution_count": 21,
   "metadata": {},
   "outputs": [
    {
     "name": "stderr",
     "output_type": "stream",
     "text": [
      "C:\\Users\\jwharton\\AppData\\Local\\Continuum\\anaconda3\\lib\\site-packages\\ipykernel_launcher.py:23: FutureWarning: using a dict on a Series for aggregation\n",
      "is deprecated and will be removed in a future version\n"
     ]
    },
    {
     "data": {
      "text/html": [
       "<div>\n",
       "<style scoped>\n",
       "    .dataframe tbody tr th:only-of-type {\n",
       "        vertical-align: middle;\n",
       "    }\n",
       "\n",
       "    .dataframe tbody tr th {\n",
       "        vertical-align: top;\n",
       "    }\n",
       "\n",
       "    .dataframe thead th {\n",
       "        text-align: right;\n",
       "    }\n",
       "</style>\n",
       "<table border=\"1\" class=\"dataframe\">\n",
       "  <thead>\n",
       "    <tr style=\"text-align: right;\">\n",
       "      <th></th>\n",
       "      <th>size</th>\n",
       "      <th>sum</th>\n",
       "      <th>mean</th>\n",
       "      <th>std</th>\n",
       "    </tr>\n",
       "    <tr>\n",
       "      <th>continent</th>\n",
       "      <th></th>\n",
       "      <th></th>\n",
       "      <th></th>\n",
       "      <th></th>\n",
       "    </tr>\n",
       "  </thead>\n",
       "  <tbody>\n",
       "    <tr>\n",
       "      <th>Asia</th>\n",
       "      <td>5.0</td>\n",
       "      <td>2.898666e+09</td>\n",
       "      <td>5.797333e+08</td>\n",
       "      <td>6.790979e+08</td>\n",
       "    </tr>\n",
       "    <tr>\n",
       "      <th>Australia</th>\n",
       "      <td>1.0</td>\n",
       "      <td>2.331602e+07</td>\n",
       "      <td>2.331602e+07</td>\n",
       "      <td>NaN</td>\n",
       "    </tr>\n",
       "    <tr>\n",
       "      <th>Europe</th>\n",
       "      <td>6.0</td>\n",
       "      <td>4.579297e+08</td>\n",
       "      <td>7.632161e+07</td>\n",
       "      <td>3.464767e+07</td>\n",
       "    </tr>\n",
       "    <tr>\n",
       "      <th>North America</th>\n",
       "      <td>2.0</td>\n",
       "      <td>3.528552e+08</td>\n",
       "      <td>1.764276e+08</td>\n",
       "      <td>1.996696e+08</td>\n",
       "    </tr>\n",
       "    <tr>\n",
       "      <th>South America</th>\n",
       "      <td>1.0</td>\n",
       "      <td>2.059153e+08</td>\n",
       "      <td>2.059153e+08</td>\n",
       "      <td>NaN</td>\n",
       "    </tr>\n",
       "  </tbody>\n",
       "</table>\n",
       "</div>"
      ],
      "text/plain": [
       "               size           sum          mean           std\n",
       "continent                                                    \n",
       "Asia            5.0  2.898666e+09  5.797333e+08  6.790979e+08\n",
       "Australia       1.0  2.331602e+07  2.331602e+07           NaN\n",
       "Europe          6.0  4.579297e+08  7.632161e+07  3.464767e+07\n",
       "North America   2.0  3.528552e+08  1.764276e+08  1.996696e+08\n",
       "South America   1.0  2.059153e+08  2.059153e+08           NaN"
      ]
     },
     "execution_count": 21,
     "metadata": {},
     "output_type": "execute_result"
    }
   ],
   "source": [
    "def answer_eleven():\n",
    "    Top15 = answer_one()\n",
    "    ContinentDict  = {'China':'Asia', \n",
    "                  'United States':'North America', \n",
    "                  'Japan':'Asia', \n",
    "                  'United Kingdom':'Europe', \n",
    "                  'Russian Federation':'Europe', \n",
    "                  'Canada':'North America', \n",
    "                  'Germany':'Europe', \n",
    "                  'India':'Asia',\n",
    "                  'France':'Europe', \n",
    "                  'South Korea':'Asia', \n",
    "                  'Italy':'Europe', \n",
    "                  'Spain':'Europe', \n",
    "                  'Iran':'Asia',\n",
    "                  'Australia':'Australia', \n",
    "                  'Brazil':'South America'}\n",
    "    Top15['continent'] = pd.Series(ContinentDict)\n",
    "    Top15['Est pop'] = Top15['Energy Supply'] / Top15['Energy Supply per Capita']\n",
    "    cont_sum = Top15.groupby('continent')['Est pop'].agg({'size': np.size,\n",
    "                                               'sum': np.sum,\n",
    "                                               'mean': np.mean,\n",
    "                                               'std': np.std})\n",
    "    return cont_sum\n",
    "\n",
    "answer_eleven()\n"
   ]
  },
  {
   "cell_type": "code",
   "execution_count": 38,
   "metadata": {},
   "outputs": [
    {
     "data": {
      "text/plain": [
       "Continent      % Renewable bins\n",
       "Asia           (2.212, 15.753]     4\n",
       "               (15.753, 29.227]    1\n",
       "Australia      (2.212, 15.753]     1\n",
       "Europe         (2.212, 15.753]     1\n",
       "               (15.753, 29.227]    3\n",
       "               (29.227, 42.701]    2\n",
       "North America  (2.212, 15.753]     1\n",
       "               (56.174, 69.648]    1\n",
       "South America  (56.174, 69.648]    1\n",
       "Name: Country, dtype: int64"
      ]
     },
     "execution_count": 38,
     "metadata": {},
     "output_type": "execute_result"
    }
   ],
   "source": [
    "def answer_twelve():\n",
    "    Top15 = answer_one()\n",
    "    Top15['% Renewable bins'] = pd.cut(Top15['% Renewable'], 5)\n",
    "    ContinentDict  = {'China':'Asia', \n",
    "                  'United States':'North America', \n",
    "                  'Japan':'Asia', \n",
    "                  'United Kingdom':'Europe', \n",
    "                  'Russian Federation':'Europe', \n",
    "                  'Canada':'North America', \n",
    "                  'Germany':'Europe', \n",
    "                  'India':'Asia',\n",
    "                  'France':'Europe', \n",
    "                  'South Korea':'Asia', \n",
    "                  'Italy':'Europe', \n",
    "                  'Spain':'Europe', \n",
    "                  'Iran':'Asia',\n",
    "                  'Australia':'Australia', \n",
    "                  'Brazil':'South America'}\n",
    "    Top15['Continent'] = pd.Series(ContinentDict)\n",
    "    Top15 = Top15.reset_index()\n",
    "    summary = Top15.groupby(['Continent', '% Renewable bins']).agg({'Country':np.size})\n",
    "    return summary['Country']\n",
    "\n",
    "answer_twelve()"
   ]
  },
  {
   "cell_type": "code",
   "execution_count": 29,
   "metadata": {},
   "outputs": [
    {
     "name": "stderr",
     "output_type": "stream",
     "text": [
      "C:\\Users\\jwharton\\AppData\\Local\\Continuum\\anaconda3\\lib\\site-packages\\ipykernel_launcher.py:22: FutureWarning: using a dict on a Series for aggregation\n",
      "is deprecated and will be removed in a future version\n"
     ]
    },
    {
     "data": {
      "text/plain": [
       "pandas.core.frame.DataFrame"
      ]
     },
     "execution_count": 29,
     "metadata": {},
     "output_type": "execute_result"
    }
   ],
   "source": [
    "type(answer_twelve())"
   ]
  },
  {
   "cell_type": "code",
   "execution_count": 43,
   "metadata": {},
   "outputs": [
    {
     "data": {
      "text/plain": [
       "Country\n",
       "Australia              23,316,017.316017315\n",
       "Brazil                 205,915,254.23728815\n",
       "Canada                  35,239,864.86486486\n",
       "China                 1,367,645,161.2903225\n",
       "France                  63,837,349.39759036\n",
       "Germany                 80,369,696.96969697\n",
       "India                 1,276,730,769.2307692\n",
       "Iran                    77,075,630.25210084\n",
       "Italy                  59,908,256.880733944\n",
       "Japan                  127,409,395.97315437\n",
       "South Korea            49,805,429.864253394\n",
       "Russian Federation            143,500,000.0\n",
       "Spain                    46,443,396.2264151\n",
       "United Kingdom         63,870,967.741935484\n",
       "United States          317,615,384.61538464\n",
       "Name: PopEst, dtype: object"
      ]
     },
     "execution_count": 43,
     "metadata": {},
     "output_type": "execute_result"
    }
   ],
   "source": [
    "def answer_thirteen():\n",
    "    Top15 = answer_one()\n",
    "    Top15['PopEst'] = (Top15['Energy Supply'] / Top15['Energy Supply per Capita']).apply('{:,}'.format)\n",
    "    PopEst = Top15['PopEst']\n",
    "    return PopEst\n",
    "\n",
    "answer_thirteen()\n"
   ]
  },
  {
   "cell_type": "code",
   "execution_count": 43,
   "metadata": {},
   "outputs": [
    {
     "data": {
      "text/plain": [
       "nan"
      ]
     },
     "execution_count": 43,
     "metadata": {},
     "output_type": "execute_result"
    }
   ],
   "source": [
    "np.average(goulet)"
   ]
  },
  {
   "cell_type": "code",
   "execution_count": 44,
   "metadata": {},
   "outputs": [
    {
     "data": {
      "text/plain": [
       "masked_array(data=[8.0, 8.0, 0.0, --],\n",
       "             mask=[False, False, False,  True],\n",
       "       fill_value=1e+20)"
      ]
     },
     "execution_count": 44,
     "metadata": {},
     "output_type": "execute_result"
    }
   ],
   "source": [
    "np.ma.masked_array(goulet, np.isnan(goulet))"
   ]
  },
  {
   "cell_type": "code",
   "execution_count": 47,
   "metadata": {},
   "outputs": [
    {
     "data": {
      "text/plain": [
       "5.333333333333333"
      ]
     },
     "execution_count": 47,
     "metadata": {},
     "output_type": "execute_result"
    }
   ],
   "source": [
    "np.ma.average(np.ma.masked_array(goulet, np.isnan(goulet)))"
   ]
  },
  {
   "cell_type": "code",
   "execution_count": null,
   "metadata": {},
   "outputs": [],
   "source": []
  }
 ],
 "metadata": {
  "kernelspec": {
   "display_name": "Python 3",
   "language": "python",
   "name": "python3"
  },
  "language_info": {
   "codemirror_mode": {
    "name": "ipython",
    "version": 3
   },
   "file_extension": ".py",
   "mimetype": "text/x-python",
   "name": "python",
   "nbconvert_exporter": "python",
   "pygments_lexer": "ipython3",
   "version": "3.6.5"
  }
 },
 "nbformat": 4,
 "nbformat_minor": 2
}
