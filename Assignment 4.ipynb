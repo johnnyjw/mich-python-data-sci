{
 "cells": [
  {
   "cell_type": "markdown",
   "metadata": {},
   "source": [
    "---\n",
    "\n",
    "_You are currently looking at **version 1.1** of this notebook. To download notebooks and datafiles, as well as get help on Jupyter notebooks in the Coursera platform, visit the [Jupyter Notebook FAQ](https://www.coursera.org/learn/python-data-analysis/resources/0dhYG) course resource._\n",
    "\n",
    "---"
   ]
  },
  {
   "cell_type": "code",
   "execution_count": 1,
   "metadata": {},
   "outputs": [],
   "source": [
    "import pandas as pd\n",
    "import numpy as np\n",
    "from scipy.stats import ttest_ind"
   ]
  },
  {
   "cell_type": "markdown",
   "metadata": {},
   "source": [
    "# Assignment 4 - Hypothesis Testing\n",
    "This assignment requires more individual learning than previous assignments - you are encouraged to check out the [pandas documentation](http://pandas.pydata.org/pandas-docs/stable/) to find functions or methods you might not have used yet, or ask questions on [Stack Overflow](http://stackoverflow.com/) and tag them as pandas and python related. And of course, the discussion forums are open for interaction with your peers and the course staff.\n",
    "\n",
    "Definitions:\n",
    "* A _quarter_ is a specific three month period, Q1 is January through March, Q2 is April through June, Q3 is July through September, Q4 is October through December.\n",
    "* A _recession_ is defined as starting with two consecutive quarters of GDP decline, and ending with two consecutive quarters of GDP growth.\n",
    "* A _recession bottom_ is the quarter within a recession which had the lowest GDP.\n",
    "* A _university town_ is a city which has a high percentage of university students compared to the total population of the city.\n",
    "\n",
    "**Hypothesis**: University towns have their mean housing prices less effected by recessions. Run a t-test to compare the ratio of the mean price of houses in university towns the quarter before the recession starts compared to the recession bottom. (`price_ratio=quarter_before_recession/recession_bottom`)\n",
    "\n",
    "The following data files are available for this assignment:\n",
    "* From the [Zillow research data site](http://www.zillow.com/research/data/) there is housing data for the United States. In particular the datafile for [all homes at a city level](http://files.zillowstatic.com/research/public/City/City_Zhvi_AllHomes.csv), ```City_Zhvi_AllHomes.csv```, has median home sale prices at a fine grained level.\n",
    "* From the Wikipedia page on college towns is a list of [university towns in the United States](https://en.wikipedia.org/wiki/List_of_college_towns#College_towns_in_the_United_States) which has been copy and pasted into the file ```university_towns.txt```.\n",
    "* From Bureau of Economic Analysis, US Department of Commerce, the [GDP over time](http://www.bea.gov/national/index.htm#gdp) of the United States in current dollars (use the chained value in 2009 dollars), in quarterly intervals, in the file ```gdplev.xls```. For this assignment, only look at GDP data from the first quarter of 2000 onward.\n",
    "\n",
    "Each function in this assignment below is worth 10%, with the exception of ```run_ttest()```, which is worth 50%."
   ]
  },
  {
   "cell_type": "code",
   "execution_count": 2,
   "metadata": {},
   "outputs": [],
   "source": [
    "# Use this dictionary to map state names to two letter acronyms\n",
    "states = {'OH': 'Ohio', 'KY': 'Kentucky', 'AS': 'American Samoa', 'NV': 'Nevada', 'WY': 'Wyoming', 'NA': 'National', 'AL': 'Alabama', 'MD': 'Maryland', 'AK': 'Alaska', 'UT': 'Utah', 'OR': 'Oregon', 'MT': 'Montana', 'IL': 'Illinois', 'TN': 'Tennessee', 'DC': 'District of Columbia', 'VT': 'Vermont', 'ID': 'Idaho', 'AR': 'Arkansas', 'ME': 'Maine', 'WA': 'Washington', 'HI': 'Hawaii', 'WI': 'Wisconsin', 'MI': 'Michigan', 'IN': 'Indiana', 'NJ': 'New Jersey', 'AZ': 'Arizona', 'GU': 'Guam', 'MS': 'Mississippi', 'PR': 'Puerto Rico', 'NC': 'North Carolina', 'TX': 'Texas', 'SD': 'South Dakota', 'MP': 'Northern Mariana Islands', 'IA': 'Iowa', 'MO': 'Missouri', 'CT': 'Connecticut', 'WV': 'West Virginia', 'SC': 'South Carolina', 'LA': 'Louisiana', 'KS': 'Kansas', 'NY': 'New York', 'NE': 'Nebraska', 'OK': 'Oklahoma', 'FL': 'Florida', 'CA': 'California', 'CO': 'Colorado', 'PA': 'Pennsylvania', 'DE': 'Delaware', 'NM': 'New Mexico', 'RI': 'Rhode Island', 'MN': 'Minnesota', 'VI': 'Virgin Islands', 'NH': 'New Hampshire', 'MA': 'Massachusetts', 'GA': 'Georgia', 'ND': 'North Dakota', 'VA': 'Virginia'}"
   ]
  },
  {
   "cell_type": "code",
   "execution_count": null,
   "metadata": {},
   "outputs": [],
   "source": [
    "def get_list_of_university_towns():\n",
    "    '''Returns a DataFrame of towns and the states they are in from the \n",
    "    university_towns.txt list. The format of the DataFrame should be:\n",
    "    DataFrame( [ [\"Michigan\", \"Ann Arbor\"], [\"Michigan\", \"Yipsilanti\"] ], \n",
    "    columns=[\"State\", \"RegionName\"]  )\n",
    "    \n",
    "    The following cleaning needs to be done:\n",
    "\n",
    "    1. For \"State\", removing characters from \"[\" to the end.\n",
    "    2. For \"RegionName\", when applicable, removing every character from \" (\" to the end.\n",
    "    3. Depending on how you read the data, you may need to remove newline character '\\n'. '''\n",
    "    df = pd.read_csv('university_towns.txt', header=None, sep='\\t')\n",
    "    df.columns = ['combined']\n",
    "    df['combined'] = df.apply(lambda x: x['combined']+'\\t' if '[edit]' in x['combined'] else '\\t'+x['combined'],\n",
    "                              axis=1)\n",
    "    df['State'] = df['combined'].str.split(\"\\t\").str[0] \\\n",
    "                                .str.split('[').str[0]\n",
    "    df['RegionName'] = df['combined'].str.split(\"\\t\").str[1] \\\n",
    "                                     .str.split(' \\(').str[0]\n",
    "    df = df.applymap(lambda x: np.nan if (x.isspace() or x=='') else x)\n",
    "    df['State'] = df['State'].fillna(method='ffill')\n",
    "    df = df[df['RegionName'].notnull()].drop(['combined'], axis=1)\n",
    "    \n",
    "    return df"
   ]
  },
  {
   "cell_type": "code",
   "execution_count": 1,
   "metadata": {},
   "outputs": [],
   "source": [
    "def get_recession_start():\n",
    "    '''Returns the year and quarter of the recession start time as a \n",
    "    string value in a format such as 2005q3'''\n",
    "    df = pd.read_excel('gdplev.xls', skiprows=7)\n",
    "    df = df.iloc[:,4:7]\n",
    "    df.columns = ['Quarter', 'GDP in billions of current dollars', 'GDP in billions of chained 2009 dollars']\n",
    "    df = df.set_index('Quarter')\n",
    "    df = df[df.index > '2000']\n",
    "    recession = []\n",
    "    for i in range (np.size(df['GDP in billions of current dollars']) - 2):\n",
    "        if ((df['GDP in billions of current dollars'].iloc[i+1] - df['GDP in billions of current dollars'].iloc[i]) < 0 and\n",
    "            (df['GDP in billions of current dollars'].iloc[i+2] - df['GDP in billions of current dollars'].iloc[i+1]) < 0):\n",
    "            recession += [df.iloc[i].name]\n",
    "    return recession[0]"
   ]
  },
  {
   "cell_type": "code",
   "execution_count": null,
   "metadata": {},
   "outputs": [],
   "source": [
    "def get_recession_end():\n",
    "    '''Returns the year and quarter of the recession end time as a \n",
    "    string value in a format such as 2005q3'''\n",
    "    df = pd.read_excel('gdplev.xls', skiprows=7)\n",
    "    df = df.iloc[:,4:7]\n",
    "    df.columns = ['Quarter', 'GDP in billions of current dollars', 'GDP in billions of chained 2009 dollars']\n",
    "    df = df.set_index('Quarter')\n",
    "    df = df[df.index >= get_recession_start()]\n",
    "    non_recession = []\n",
    "    for i in range (np.size(df['GDP in billions of current dollars']) - 2):\n",
    "        if ((df['GDP in billions of current dollars'].iloc[i+1] - df['GDP in billions of current dollars'].iloc[i]) > 0 and\n",
    "            (df['GDP in billions of current dollars'].iloc[i+2] - df['GDP in billions of current dollars'].iloc[i+1]) > 0):\n",
    "            non_recession += [df.iloc[i+2].name]\n",
    "    return non_recession[0]   "
   ]
  },
  {
   "cell_type": "code",
   "execution_count": null,
   "metadata": {},
   "outputs": [],
   "source": [
    "def get_recession_bottom():\n",
    "    df = pd.read_excel('gdplev.xls', skiprows=7)\n",
    "    df = df.iloc[:,4:7]\n",
    "    df.columns = ['Quarter', 'GDP in billions of current dollars', 'GDP in billions of chained 2009 dollars']\n",
    "    df = df.set_index('Quarter')\n",
    "    df = df[(df.index >= get_recession_start()) &\n",
    "            (df.index <= get_recession_end())]\n",
    "    min_gdp = np.min(df['GDP in billions of current dollars'])\n",
    "    df_m_g = df[df['GDP in billions of current dollars']==min_gdp]\n",
    "    return df_m_g.iloc[0].name"
   ]
  },
  {
   "cell_type": "code",
   "execution_count": null,
   "metadata": {},
   "outputs": [],
   "source": [
    "def convert_housing_data_to_quarters():\n",
    "    '''Converts the housing data to quarters and returns it as mean \n",
    "    values in a dataframe. This dataframe should be a dataframe with\n",
    "    columns for 2000q1 through 2016q3, and should have a multi-index\n",
    "    in the shape of [\"State\",\"RegionName\"].\n",
    "    \n",
    "    Note: Quarters are defined in the assignment description, they are\n",
    "    not arbitrary three month periods.\n",
    "    \n",
    "    The resulting dataframe should have 67 columns, and 10,730 rows.\n",
    "    '''\n",
    "    df = pd.read_csv('City_Zhvi_AllHomes.csv', header=0, sep=',')\n",
    "    df['State'] = df['State'].map(lambda x: states[x])\n",
    "    df = df.set_index(['State', 'RegionName'])\n",
    "    df = df.loc[:,'2000-01':]\n",
    "    df = df.T\n",
    "    df.index = pd.to_datetime(df.index)\n",
    "    df = df.resample('Q').mean()\n",
    "    df.index = df.index.to_period(\"Q\")\n",
    "    df = df.T\n",
    "    return df"
   ]
  },
  {
   "cell_type": "code",
   "execution_count": 2,
   "metadata": {},
   "outputs": [],
   "source": [
    "def run_ttest():\n",
    "    '''First creates new data showing the decline or growth of housing prices\n",
    "    between the recession start and the recession bottom. Then runs a ttest\n",
    "    comparing the university town values to the non-university towns values, \n",
    "    return whether the alternative hypothesis (that the two groups are the same)\n",
    "    is true or not as well as the p-value of the confidence. \n",
    "    \n",
    "    Return the tuple (different, p, better) where different=True if the t-test is\n",
    "    True at a p<0.01 (we reject the null hypothesis), or different=False if \n",
    "    otherwise (we cannot reject the null hypothesis). The variable p should\n",
    "    be equal to the exact p value returned from scipy.stats.ttest_ind(). The\n",
    "    value for better should be either \"university town\" or \"non-university town\"\n",
    "    depending on which has a lower mean price ratio (which is equivilent to a\n",
    "    reduced market loss).'''\n",
    "    df = convert_housing_data_to_quarters()\n",
    "    recession_start = get_recession_start()\n",
    "    recession_bottom = df.columns.get_loc(get_recession_bottom())\n",
    "    start_m1 = df.columns.get_loc(recession_start) - 1\n",
    "    ratio = df.iloc[:,start_m1] / df.iloc[:,recession_bottom]\n",
    "    ratio_df = pd.DataFrame({'ratio':ratio})\n",
    "    \n",
    "    unis = get_list_of_university_towns()\n",
    "    unis['ut'] = 1\n",
    "    unis = unis.set_index(['State', 'RegionName'])\n",
    "    rat_comb = pd.merge(ratio_df, unis, how='left', left_index=True, right_index=True)\n",
    "    p =      ttest_ind(rat_comb[rat_comb['ut'] == 1].loc[:,'ratio'], \n",
    "                       rat_comb[rat_comb['ut'] != 1].loc[:,'ratio'], nan_policy='omit')[1]\n",
    "    if p < 0.01:\n",
    "        different = True\n",
    "    else:\n",
    "        different = False\n",
    "    if np.mean(rat_comb[rat_comb['ut'] == 1].loc[:,'ratio']) > np.mean(rat_comb[rat_comb['ut'] != 1].loc[:,'ratio']):\n",
    "        better = \"university town\"\n",
    "    else:\n",
    "        better = \"non-university town\"\n",
    "        \n",
    "    return (different, p, better)"
   ]
  },
  {
   "cell_type": "code",
   "execution_count": 3,
   "metadata": {},
   "outputs": [
    {
     "ename": "NameError",
     "evalue": "name 'convert_housing_data_to_quarters' is not defined",
     "output_type": "error",
     "traceback": [
      "\u001b[1;31m---------------------------------------------------------------------------\u001b[0m",
      "\u001b[1;31mNameError\u001b[0m                                 Traceback (most recent call last)",
      "\u001b[1;32m<ipython-input-3-bc040d4d86b4>\u001b[0m in \u001b[0;36m<module>\u001b[1;34m()\u001b[0m\n\u001b[1;32m----> 1\u001b[1;33m \u001b[0mrun_ttest\u001b[0m\u001b[1;33m(\u001b[0m\u001b[1;33m)\u001b[0m\u001b[1;33m\u001b[0m\u001b[0m\n\u001b[0m",
      "\u001b[1;32m<ipython-input-2-3582ff3c5728>\u001b[0m in \u001b[0;36mrun_ttest\u001b[1;34m()\u001b[0m\n\u001b[0;32m     13\u001b[0m     depending on which has a lower mean price ratio (which is equivilent to a\n\u001b[0;32m     14\u001b[0m     reduced market loss).'''\n\u001b[1;32m---> 15\u001b[1;33m     \u001b[0mdf\u001b[0m \u001b[1;33m=\u001b[0m \u001b[0mconvert_housing_data_to_quarters\u001b[0m\u001b[1;33m(\u001b[0m\u001b[1;33m)\u001b[0m\u001b[1;33m\u001b[0m\u001b[0m\n\u001b[0m\u001b[0;32m     16\u001b[0m     \u001b[0mrecession_start\u001b[0m \u001b[1;33m=\u001b[0m \u001b[0mget_recession_start\u001b[0m\u001b[1;33m(\u001b[0m\u001b[1;33m)\u001b[0m\u001b[1;33m\u001b[0m\u001b[0m\n\u001b[0;32m     17\u001b[0m     \u001b[0mrecession_bottom\u001b[0m \u001b[1;33m=\u001b[0m \u001b[0mdf\u001b[0m\u001b[1;33m.\u001b[0m\u001b[0mcolumns\u001b[0m\u001b[1;33m.\u001b[0m\u001b[0mget_loc\u001b[0m\u001b[1;33m(\u001b[0m\u001b[0mget_recession_bottom\u001b[0m\u001b[1;33m(\u001b[0m\u001b[1;33m)\u001b[0m\u001b[1;33m)\u001b[0m\u001b[1;33m\u001b[0m\u001b[0m\n",
      "\u001b[1;31mNameError\u001b[0m: name 'convert_housing_data_to_quarters' is not defined"
     ]
    }
   ],
   "source": []
  },
  {
   "cell_type": "code",
   "execution_count": null,
   "metadata": {},
   "outputs": [],
   "source": []
  }
 ],
 "metadata": {
  "coursera": {
   "course_slug": "python-data-analysis",
   "graded_item_id": "Il9Fx",
   "launcher_item_id": "TeDW0",
   "part_id": "WGlun"
  },
  "kernelspec": {
   "display_name": "Python 3",
   "language": "python",
   "name": "python3"
  },
  "language_info": {
   "codemirror_mode": {
    "name": "ipython",
    "version": 3
   },
   "file_extension": ".py",
   "mimetype": "text/x-python",
   "name": "python",
   "nbconvert_exporter": "python",
   "pygments_lexer": "ipython3",
   "version": "3.6.5"
  }
 },
 "nbformat": 4,
 "nbformat_minor": 1
}
