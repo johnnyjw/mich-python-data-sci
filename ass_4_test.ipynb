{
 "cells": [
  {
   "cell_type": "code",
   "execution_count": 1,
   "metadata": {},
   "outputs": [],
   "source": [
    "import pandas as pd\n",
    "import numpy as np\n",
    "from scipy.stats import ttest_ind"
   ]
  },
  {
   "cell_type": "code",
   "execution_count": 2,
   "metadata": {},
   "outputs": [],
   "source": [
    "# Use this dictionary to map state names to two letter acronyms\n",
    "states = {'OH': 'Ohio', 'KY': 'Kentucky', 'AS': 'American Samoa', 'NV': 'Nevada', 'WY': 'Wyoming', 'NA': 'National', 'AL': 'Alabama', 'MD': 'Maryland', 'AK': 'Alaska', 'UT': 'Utah', 'OR': 'Oregon', 'MT': 'Montana', 'IL': 'Illinois', 'TN': 'Tennessee', 'DC': 'District of Columbia', 'VT': 'Vermont', 'ID': 'Idaho', 'AR': 'Arkansas', 'ME': 'Maine', 'WA': 'Washington', 'HI': 'Hawaii', 'WI': 'Wisconsin', 'MI': 'Michigan', 'IN': 'Indiana', 'NJ': 'New Jersey', 'AZ': 'Arizona', 'GU': 'Guam', 'MS': 'Mississippi', 'PR': 'Puerto Rico', 'NC': 'North Carolina', 'TX': 'Texas', 'SD': 'South Dakota', 'MP': 'Northern Mariana Islands', 'IA': 'Iowa', 'MO': 'Missouri', 'CT': 'Connecticut', 'WV': 'West Virginia', 'SC': 'South Carolina', 'LA': 'Louisiana', 'KS': 'Kansas', 'NY': 'New York', 'NE': 'Nebraska', 'OK': 'Oklahoma', 'FL': 'Florida', 'CA': 'California', 'CO': 'Colorado', 'PA': 'Pennsylvania', 'DE': 'Delaware', 'NM': 'New Mexico', 'RI': 'Rhode Island', 'MN': 'Minnesota', 'VI': 'Virgin Islands', 'NH': 'New Hampshire', 'MA': 'Massachusetts', 'GA': 'Georgia', 'ND': 'North Dakota', 'VA': 'Virginia'}"
   ]
  },
  {
   "cell_type": "code",
   "execution_count": 105,
   "metadata": {},
   "outputs": [
    {
     "ename": "ValueError",
     "evalue": "must specify a fill method or value",
     "output_type": "error",
     "traceback": [
      "\u001b[1;31m---------------------------------------------------------------------------\u001b[0m",
      "\u001b[1;31mValueError\u001b[0m                                Traceback (most recent call last)",
      "\u001b[1;32m<ipython-input-105-dc99e25fc75e>\u001b[0m in \u001b[0;36m<module>\u001b[1;34m()\u001b[0m\n\u001b[0;32m     19\u001b[0m     \u001b[1;32mreturn\u001b[0m \u001b[0mdf\u001b[0m\u001b[1;33m\u001b[0m\u001b[0m\n\u001b[0;32m     20\u001b[0m \u001b[1;33m\u001b[0m\u001b[0m\n\u001b[1;32m---> 21\u001b[1;33m \u001b[0mdf\u001b[0m \u001b[1;33m=\u001b[0m \u001b[0mget_list_of_university_towns\u001b[0m\u001b[1;33m(\u001b[0m\u001b[1;33m)\u001b[0m\u001b[1;33m\u001b[0m\u001b[0m\n\u001b[0m\u001b[0;32m     22\u001b[0m \u001b[1;33m\u001b[0m\u001b[0m\n",
      "\u001b[1;32m<ipython-input-105-dc99e25fc75e>\u001b[0m in \u001b[0;36mget_list_of_university_towns\u001b[1;34m()\u001b[0m\n\u001b[0;32m     14\u001b[0m     df['combined'] = df.apply(lambda x: x['combined']+'\\t' if '[edit]' in x['combined'] else '\\t'+x['combined'],\n\u001b[0;32m     15\u001b[0m                               axis=1)\n\u001b[1;32m---> 16\u001b[1;33m     \u001b[0mdf\u001b[0m\u001b[1;33m[\u001b[0m\u001b[1;34m'state'\u001b[0m\u001b[1;33m]\u001b[0m \u001b[1;33m=\u001b[0m \u001b[0mdf\u001b[0m\u001b[1;33m[\u001b[0m\u001b[1;34m'combined'\u001b[0m\u001b[1;33m]\u001b[0m\u001b[1;33m.\u001b[0m\u001b[0mstr\u001b[0m\u001b[1;33m.\u001b[0m\u001b[0msplit\u001b[0m\u001b[1;33m(\u001b[0m\u001b[1;34m\"\\t\"\u001b[0m\u001b[1;33m)\u001b[0m\u001b[1;33m.\u001b[0m\u001b[0mstr\u001b[0m\u001b[1;33m[\u001b[0m\u001b[1;36m0\u001b[0m\u001b[1;33m]\u001b[0m\u001b[1;33m.\u001b[0m\u001b[0mfillna\u001b[0m\u001b[1;33m(\u001b[0m\u001b[1;33m)\u001b[0m\u001b[1;33m\u001b[0m\u001b[0m\n\u001b[0m\u001b[0;32m     17\u001b[0m     \u001b[0mdf\u001b[0m\u001b[1;33m[\u001b[0m\u001b[1;34m'city'\u001b[0m\u001b[1;33m]\u001b[0m \u001b[1;33m=\u001b[0m \u001b[0mdf\u001b[0m\u001b[1;33m[\u001b[0m\u001b[1;34m'combined'\u001b[0m\u001b[1;33m]\u001b[0m\u001b[1;33m.\u001b[0m\u001b[0mstr\u001b[0m\u001b[1;33m.\u001b[0m\u001b[0msplit\u001b[0m\u001b[1;33m(\u001b[0m\u001b[1;34m\"\\t\"\u001b[0m\u001b[1;33m)\u001b[0m\u001b[1;33m.\u001b[0m\u001b[0mstr\u001b[0m\u001b[1;33m[\u001b[0m\u001b[1;36m1\u001b[0m\u001b[1;33m]\u001b[0m\u001b[1;33m\u001b[0m\u001b[0m\n\u001b[0;32m     18\u001b[0m \u001b[1;33m\u001b[0m\u001b[0m\n",
      "\u001b[1;32mC:\\ProgramData\\Anaconda3\\lib\\site-packages\\pandas\\core\\series.py\u001b[0m in \u001b[0;36mfillna\u001b[1;34m(self, value, method, axis, inplace, limit, downcast, **kwargs)\u001b[0m\n\u001b[0;32m   2687\u001b[0m                                           \u001b[0maxis\u001b[0m\u001b[1;33m=\u001b[0m\u001b[0maxis\u001b[0m\u001b[1;33m,\u001b[0m \u001b[0minplace\u001b[0m\u001b[1;33m=\u001b[0m\u001b[0minplace\u001b[0m\u001b[1;33m,\u001b[0m\u001b[1;33m\u001b[0m\u001b[0m\n\u001b[0;32m   2688\u001b[0m                                           \u001b[0mlimit\u001b[0m\u001b[1;33m=\u001b[0m\u001b[0mlimit\u001b[0m\u001b[1;33m,\u001b[0m \u001b[0mdowncast\u001b[0m\u001b[1;33m=\u001b[0m\u001b[0mdowncast\u001b[0m\u001b[1;33m,\u001b[0m\u001b[1;33m\u001b[0m\u001b[0m\n\u001b[1;32m-> 2689\u001b[1;33m                                           **kwargs)\n\u001b[0m\u001b[0;32m   2690\u001b[0m \u001b[1;33m\u001b[0m\u001b[0m\n\u001b[0;32m   2691\u001b[0m     \u001b[1;33m@\u001b[0m\u001b[0mAppender\u001b[0m\u001b[1;33m(\u001b[0m\u001b[0mgeneric\u001b[0m\u001b[1;33m.\u001b[0m\u001b[0m_shared_docs\u001b[0m\u001b[1;33m[\u001b[0m\u001b[1;34m'shift'\u001b[0m\u001b[1;33m]\u001b[0m \u001b[1;33m%\u001b[0m \u001b[0m_shared_doc_kwargs\u001b[0m\u001b[1;33m)\u001b[0m\u001b[1;33m\u001b[0m\u001b[0m\n",
      "\u001b[1;32mC:\\ProgramData\\Anaconda3\\lib\\site-packages\\pandas\\core\\generic.py\u001b[0m in \u001b[0;36mfillna\u001b[1;34m(self, value, method, axis, inplace, limit, downcast)\u001b[0m\n\u001b[0;32m   4275\u001b[0m         \u001b[1;32mif\u001b[0m \u001b[0mvalue\u001b[0m \u001b[1;32mis\u001b[0m \u001b[1;32mNone\u001b[0m\u001b[1;33m:\u001b[0m\u001b[1;33m\u001b[0m\u001b[0m\n\u001b[0;32m   4276\u001b[0m             \u001b[1;32mif\u001b[0m \u001b[0mmethod\u001b[0m \u001b[1;32mis\u001b[0m \u001b[1;32mNone\u001b[0m\u001b[1;33m:\u001b[0m\u001b[1;33m\u001b[0m\u001b[0m\n\u001b[1;32m-> 4277\u001b[1;33m                 \u001b[1;32mraise\u001b[0m \u001b[0mValueError\u001b[0m\u001b[1;33m(\u001b[0m\u001b[1;34m'must specify a fill method or value'\u001b[0m\u001b[1;33m)\u001b[0m\u001b[1;33m\u001b[0m\u001b[0m\n\u001b[0m\u001b[0;32m   4278\u001b[0m             \u001b[1;32mif\u001b[0m \u001b[0mself\u001b[0m\u001b[1;33m.\u001b[0m\u001b[0m_is_mixed_type\u001b[0m \u001b[1;32mand\u001b[0m \u001b[0maxis\u001b[0m \u001b[1;33m==\u001b[0m \u001b[1;36m1\u001b[0m\u001b[1;33m:\u001b[0m\u001b[1;33m\u001b[0m\u001b[0m\n\u001b[0;32m   4279\u001b[0m                 \u001b[1;32mif\u001b[0m \u001b[0minplace\u001b[0m\u001b[1;33m:\u001b[0m\u001b[1;33m\u001b[0m\u001b[0m\n",
      "\u001b[1;31mValueError\u001b[0m: must specify a fill method or value"
     ]
    }
   ],
   "source": [
    "def get_list_of_university_towns():\n",
    "    '''Returns a DataFrame of towns and the states they are in from the \n",
    "    university_towns.txt list. The format of the DataFrame should be:\n",
    "    DataFrame( [ [\"Michigan\", \"Ann Arbor\"], [\"Michigan\", \"Yipsilanti\"] ], \n",
    "    columns=[\"State\", \"RegionName\"]  )\n",
    "    \n",
    "    The following cleaning needs to be done:\n",
    "\n",
    "    1. For \"State\", removing characters from \"[\" to the end.\n",
    "    2. For \"RegionName\", when applicable, removing every character from \" (\" to the end.\n",
    "    3. Depending on how you read the data, you may need to remove newline character '\\n'. '''\n",
    "    df = pd.read_csv('university_towns.txt', header=None, sep='\\t')\n",
    "    df.columns = ['combined']\n",
    "    df['combined'] = df.apply(lambda x: x['combined']+'\\t' if '[edit]' in x['combined'] else '\\t'+x['combined'],\n",
    "                              axis=1)\n",
    "    df['state'] = df['combined'].str.split(\"\\t\").str[0]\n",
    "    df['city'] = df['combined'].str.split(\"\\t\").str[1]\n",
    "    \n",
    "    return df\n",
    "\n",
    "df = get_list_of_university_towns()\n",
    "\n"
   ]
  },
  {
   "cell_type": "code",
   "execution_count": 104,
   "metadata": {},
   "outputs": [
    {
     "data": {
      "text/html": [
       "<div>\n",
       "<style scoped>\n",
       "    .dataframe tbody tr th:only-of-type {\n",
       "        vertical-align: middle;\n",
       "    }\n",
       "\n",
       "    .dataframe tbody tr th {\n",
       "        vertical-align: top;\n",
       "    }\n",
       "\n",
       "    .dataframe thead th {\n",
       "        text-align: right;\n",
       "    }\n",
       "</style>\n",
       "<table border=\"1\" class=\"dataframe\">\n",
       "  <thead>\n",
       "    <tr style=\"text-align: right;\">\n",
       "      <th></th>\n",
       "      <th>combined</th>\n",
       "      <th>state</th>\n",
       "      <th>city</th>\n",
       "    </tr>\n",
       "  </thead>\n",
       "  <tbody>\n",
       "    <tr>\n",
       "      <th>0</th>\n",
       "      <td>Alabama[edit]\\t</td>\n",
       "      <td>Alabama[edit]</td>\n",
       "      <td></td>\n",
       "    </tr>\n",
       "    <tr>\n",
       "      <th>1</th>\n",
       "      <td>\\tAuburn (Auburn University)[1]</td>\n",
       "      <td></td>\n",
       "      <td>Auburn (Auburn University)[1]</td>\n",
       "    </tr>\n",
       "    <tr>\n",
       "      <th>2</th>\n",
       "      <td>\\tFlorence (University of North Alabama)</td>\n",
       "      <td></td>\n",
       "      <td>Florence (University of North Alabama)</td>\n",
       "    </tr>\n",
       "    <tr>\n",
       "      <th>3</th>\n",
       "      <td>\\tJacksonville (Jacksonville State University)[2]</td>\n",
       "      <td></td>\n",
       "      <td>Jacksonville (Jacksonville State University)[2]</td>\n",
       "    </tr>\n",
       "    <tr>\n",
       "      <th>4</th>\n",
       "      <td>\\tLivingston (University of West Alabama)[2]</td>\n",
       "      <td></td>\n",
       "      <td>Livingston (University of West Alabama)[2]</td>\n",
       "    </tr>\n",
       "  </tbody>\n",
       "</table>\n",
       "</div>"
      ],
      "text/plain": [
       "                                            combined          state  \\\n",
       "0                                    Alabama[edit]\\t  Alabama[edit]   \n",
       "1                    \\tAuburn (Auburn University)[1]                  \n",
       "2           \\tFlorence (University of North Alabama)                  \n",
       "3  \\tJacksonville (Jacksonville State University)[2]                  \n",
       "4       \\tLivingston (University of West Alabama)[2]                  \n",
       "\n",
       "                                              city  \n",
       "0                                                   \n",
       "1                    Auburn (Auburn University)[1]  \n",
       "2           Florence (University of North Alabama)  \n",
       "3  Jacksonville (Jacksonville State University)[2]  \n",
       "4       Livingston (University of West Alabama)[2]  "
      ]
     },
     "execution_count": 104,
     "metadata": {},
     "output_type": "execute_result"
    }
   ],
   "source": [
    "df.head()"
   ]
  },
  {
   "cell_type": "code",
   "execution_count": 96,
   "metadata": {},
   "outputs": [
    {
     "data": {
      "text/plain": [
       "0                                      [Alabama[edit], ]\n",
       "1                      [, Auburn (Auburn University)[1]]\n",
       "2             [, Florence (University of North Alabama)]\n",
       "3      [, Jacksonville (Jacksonville State University...\n",
       "4         [, Livingston (University of West Alabama)[2]]\n",
       "5           [, Montevallo (University of Montevallo)[2]]\n",
       "6                          [, Troy (Troy University)[2]]\n",
       "7      [, Tuscaloosa (University of Alabama, Stillman...\n",
       "8                  [, Tuskegee (Tuskegee University)[5]]\n",
       "9                                       [Alaska[edit], ]\n",
       "10     [, Fairbanks (University of Alaska Fairbanks)[2]]\n",
       "11                                     [Arizona[edit], ]\n",
       "12        [, Flagstaff (Northern Arizona University)[6]]\n",
       "13                  [, Tempe (Arizona State University)]\n",
       "14                    [, Tucson (University of Arizona)]\n",
       "15                                    [Arkansas[edit], ]\n",
       "16     [, Arkadelphia (Henderson State University, Ou...\n",
       "17     [, Conway (Central Baptist College, Hendrix Co...\n",
       "18          [, Fayetteville (University of Arkansas)[7]]\n",
       "19          [, Jonesboro (Arkansas State University)[8]]\n",
       "20        [, Magnolia (Southern Arkansas University)[2]]\n",
       "21     [, Monticello (University of Arkansas at Monti...\n",
       "22        [, Russellville (Arkansas Tech University)[2]]\n",
       "23                    [, Searcy (Harding University)[5]]\n",
       "24                                  [California[edit], ]\n",
       "25                 [, Angwin (Pacific Union College)[2]]\n",
       "26             [, Arcata (Humboldt State University)[5]]\n",
       "27     [, Berkeley (University of California, Berkele...\n",
       "28     [, Chico (California State University, Chico)[2]]\n",
       "29     [, Claremont (Claremont McKenna College, Pomon...\n",
       "                             ...                        \n",
       "537        [, Cheney (Eastern Washington University)[2]]\n",
       "538    [, Ellensburg (Central Washington University)[5]]\n",
       "539         [, Pullman (Washington State University)[5]]\n",
       "540    [, University District, Seattle (University of...\n",
       "541                              [West Virginia[edit], ]\n",
       "542                   [, Athens (Concord University)[2]]\n",
       "543    [, Buckhannon (West Virginia Wesleyan College)...\n",
       "544          [, Fairmont (Fairmont State University)[2]]\n",
       "545           [, Glenville (Glenville State College)[2]]\n",
       "546              [, Huntington (Marshall University)[2]]\n",
       "547    [, Montgomery (West Virginia University Instit...\n",
       "548         [, Morgantown (West Virginia University)[2]]\n",
       "549           [, Shepherdstown (Shepherd University)[2]]\n",
       "550        [, West Liberty (West Liberty University)[2]]\n",
       "551                                  [Wisconsin[edit], ]\n",
       "552                   [, Appleton (Lawrence University)]\n",
       "553    [, Eau Claire (University of Wisconsin–Eau Cla...\n",
       "554    [, Green Bay (University of Wisconsin-Green Bay)]\n",
       "555    [, La Crosse (University of Wisconsin–La Cross...\n",
       "556     [, Madison (University of Wisconsin–Madison)[2]]\n",
       "557     [, Menomonie (University of Wisconsin–Stout)[2]]\n",
       "558    [, Milwaukee (Marquette University, University...\n",
       "559        [, Oshkosh (University of Wisconsin–Oshkosh)]\n",
       "560    [, Platteville (University of Wisconsin–Platte...\n",
       "561    [, River Falls (University of Wisconsin–River ...\n",
       "562    [, Stevens Point (University of Wisconsin–Stev...\n",
       "563                    [, Waukesha (Carroll University)]\n",
       "564    [, Whitewater (University of Wisconsin–Whitewa...\n",
       "565                                    [Wyoming[edit], ]\n",
       "566               [, Laramie (University of Wyoming)[5]]\n",
       "Length: 567, dtype: object"
      ]
     },
     "execution_count": 96,
     "metadata": {},
     "output_type": "execute_result"
    }
   ],
   "source": [
    "df.apply(lambda x: x.str.split(\"\\t\")[0], axis=1)"
   ]
  },
  {
   "cell_type": "code",
   "execution_count": 100,
   "metadata": {},
   "outputs": [
    {
     "data": {
      "text/plain": [
       "0            Alabama[edit]\n",
       "1                         \n",
       "2                         \n",
       "3                         \n",
       "4                         \n",
       "5                         \n",
       "6                         \n",
       "7                         \n",
       "8                         \n",
       "9             Alaska[edit]\n",
       "10                        \n",
       "11           Arizona[edit]\n",
       "12                        \n",
       "13                        \n",
       "14                        \n",
       "15          Arkansas[edit]\n",
       "16                        \n",
       "17                        \n",
       "18                        \n",
       "19                        \n",
       "20                        \n",
       "21                        \n",
       "22                        \n",
       "23                        \n",
       "24        California[edit]\n",
       "25                        \n",
       "26                        \n",
       "27                        \n",
       "28                        \n",
       "29                        \n",
       "              ...         \n",
       "537                       \n",
       "538                       \n",
       "539                       \n",
       "540                       \n",
       "541    West Virginia[edit]\n",
       "542                       \n",
       "543                       \n",
       "544                       \n",
       "545                       \n",
       "546                       \n",
       "547                       \n",
       "548                       \n",
       "549                       \n",
       "550                       \n",
       "551        Wisconsin[edit]\n",
       "552                       \n",
       "553                       \n",
       "554                       \n",
       "555                       \n",
       "556                       \n",
       "557                       \n",
       "558                       \n",
       "559                       \n",
       "560                       \n",
       "561                       \n",
       "562                       \n",
       "563                       \n",
       "564                       \n",
       "565          Wyoming[edit]\n",
       "566                       \n",
       "Name: combined, Length: 567, dtype: object"
      ]
     },
     "execution_count": 100,
     "metadata": {},
     "output_type": "execute_result"
    }
   ],
   "source": [
    "df['combined'].str.split(\"\\t\").str[0]"
   ]
  },
  {
   "cell_type": "code",
   "execution_count": 15,
   "metadata": {},
   "outputs": [],
   "source": [
    "x = unis[0]"
   ]
  },
  {
   "cell_type": "code",
   "execution_count": 16,
   "metadata": {},
   "outputs": [
    {
     "data": {
      "text/plain": [
       "'Alabama[edit]'"
      ]
     },
     "execution_count": 16,
     "metadata": {},
     "output_type": "execute_result"
    }
   ],
   "source": [
    "x"
   ]
  },
  {
   "cell_type": "code",
   "execution_count": 17,
   "metadata": {},
   "outputs": [
    {
     "data": {
      "text/plain": [
       "True"
      ]
     },
     "execution_count": 17,
     "metadata": {},
     "output_type": "execute_result"
    }
   ],
   "source": [
    "x.endswith('[edit]')"
   ]
  },
  {
   "cell_type": "code",
   "execution_count": null,
   "metadata": {},
   "outputs": [],
   "source": []
  }
 ],
 "metadata": {
  "kernelspec": {
   "display_name": "Python 3",
   "language": "python",
   "name": "python3"
  },
  "language_info": {
   "codemirror_mode": {
    "name": "ipython",
    "version": 3
   },
   "file_extension": ".py",
   "mimetype": "text/x-python",
   "name": "python",
   "nbconvert_exporter": "python",
   "pygments_lexer": "ipython3",
   "version": "3.6.4"
  }
 },
 "nbformat": 4,
 "nbformat_minor": 2
}
